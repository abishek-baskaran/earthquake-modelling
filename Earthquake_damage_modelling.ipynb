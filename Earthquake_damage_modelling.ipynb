{
 "cells": [
  {
   "cell_type": "markdown",
   "id": "aaeeef78",
   "metadata": {},
   "source": [
    "## Earthquake damage prediction - Nepal 2015"
   ]
  },
  {
   "cell_type": "markdown",
   "id": "31664416",
   "metadata": {},
   "source": [
    "This work uses various features of buildings recorded from 2015 Earthquake at Gorkha, Nepal to predict the intensity of damage a building would sustain, given the features. The damage are classified into 3 grades (1, 2, 3), denoting low damage, medium damage and high damage. \n",
    "\n",
    "The metrics used to evaluate is \"f1_micro\""
   ]
  },
  {
   "cell_type": "markdown",
   "id": "eeb1d442",
   "metadata": {},
   "source": [
    "### EDA"
   ]
  },
  {
   "cell_type": "code",
   "execution_count": 1,
   "id": "c84dcaa2",
   "metadata": {},
   "outputs": [],
   "source": [
    "import pandas as pd\n",
    "import seaborn as sns\n",
    "import numpy as np\n",
    "import matplotlib.pyplot as plt\n",
    "from matplotlib.colors import ListedColormap\n",
    "from dython.nominal import associations"
   ]
  },
  {
   "cell_type": "code",
   "execution_count": 2,
   "id": "f2ae2a14",
   "metadata": {},
   "outputs": [],
   "source": [
    "X = pd.read_csv(\"train_values.csv\")\n",
    "labels = pd.read_csv(\"train_labels.csv\")"
   ]
  },
  {
   "cell_type": "code",
   "execution_count": 3,
   "id": "af5ca53a",
   "metadata": {},
   "outputs": [
    {
     "name": "stdout",
     "output_type": "stream",
     "text": [
      "(260601, 39)\n"
     ]
    },
    {
     "data": {
      "text/html": [
       "<div>\n",
       "<style scoped>\n",
       "    .dataframe tbody tr th:only-of-type {\n",
       "        vertical-align: middle;\n",
       "    }\n",
       "\n",
       "    .dataframe tbody tr th {\n",
       "        vertical-align: top;\n",
       "    }\n",
       "\n",
       "    .dataframe thead th {\n",
       "        text-align: right;\n",
       "    }\n",
       "</style>\n",
       "<table border=\"1\" class=\"dataframe\">\n",
       "  <thead>\n",
       "    <tr style=\"text-align: right;\">\n",
       "      <th></th>\n",
       "      <th>building_id</th>\n",
       "      <th>geo_level_1_id</th>\n",
       "      <th>geo_level_2_id</th>\n",
       "      <th>geo_level_3_id</th>\n",
       "      <th>count_floors_pre_eq</th>\n",
       "      <th>age</th>\n",
       "      <th>area_percentage</th>\n",
       "      <th>height_percentage</th>\n",
       "      <th>land_surface_condition</th>\n",
       "      <th>foundation_type</th>\n",
       "      <th>...</th>\n",
       "      <th>has_secondary_use_agriculture</th>\n",
       "      <th>has_secondary_use_hotel</th>\n",
       "      <th>has_secondary_use_rental</th>\n",
       "      <th>has_secondary_use_institution</th>\n",
       "      <th>has_secondary_use_school</th>\n",
       "      <th>has_secondary_use_industry</th>\n",
       "      <th>has_secondary_use_health_post</th>\n",
       "      <th>has_secondary_use_gov_office</th>\n",
       "      <th>has_secondary_use_use_police</th>\n",
       "      <th>has_secondary_use_other</th>\n",
       "    </tr>\n",
       "  </thead>\n",
       "  <tbody>\n",
       "    <tr>\n",
       "      <th>0</th>\n",
       "      <td>802906</td>\n",
       "      <td>6</td>\n",
       "      <td>487</td>\n",
       "      <td>12198</td>\n",
       "      <td>2</td>\n",
       "      <td>30</td>\n",
       "      <td>6</td>\n",
       "      <td>5</td>\n",
       "      <td>t</td>\n",
       "      <td>r</td>\n",
       "      <td>...</td>\n",
       "      <td>0</td>\n",
       "      <td>0</td>\n",
       "      <td>0</td>\n",
       "      <td>0</td>\n",
       "      <td>0</td>\n",
       "      <td>0</td>\n",
       "      <td>0</td>\n",
       "      <td>0</td>\n",
       "      <td>0</td>\n",
       "      <td>0</td>\n",
       "    </tr>\n",
       "    <tr>\n",
       "      <th>1</th>\n",
       "      <td>28830</td>\n",
       "      <td>8</td>\n",
       "      <td>900</td>\n",
       "      <td>2812</td>\n",
       "      <td>2</td>\n",
       "      <td>10</td>\n",
       "      <td>8</td>\n",
       "      <td>7</td>\n",
       "      <td>o</td>\n",
       "      <td>r</td>\n",
       "      <td>...</td>\n",
       "      <td>0</td>\n",
       "      <td>0</td>\n",
       "      <td>0</td>\n",
       "      <td>0</td>\n",
       "      <td>0</td>\n",
       "      <td>0</td>\n",
       "      <td>0</td>\n",
       "      <td>0</td>\n",
       "      <td>0</td>\n",
       "      <td>0</td>\n",
       "    </tr>\n",
       "    <tr>\n",
       "      <th>2</th>\n",
       "      <td>94947</td>\n",
       "      <td>21</td>\n",
       "      <td>363</td>\n",
       "      <td>8973</td>\n",
       "      <td>2</td>\n",
       "      <td>10</td>\n",
       "      <td>5</td>\n",
       "      <td>5</td>\n",
       "      <td>t</td>\n",
       "      <td>r</td>\n",
       "      <td>...</td>\n",
       "      <td>0</td>\n",
       "      <td>0</td>\n",
       "      <td>0</td>\n",
       "      <td>0</td>\n",
       "      <td>0</td>\n",
       "      <td>0</td>\n",
       "      <td>0</td>\n",
       "      <td>0</td>\n",
       "      <td>0</td>\n",
       "      <td>0</td>\n",
       "    </tr>\n",
       "  </tbody>\n",
       "</table>\n",
       "<p>3 rows × 39 columns</p>\n",
       "</div>"
      ],
      "text/plain": [
       "   building_id  geo_level_1_id  geo_level_2_id  geo_level_3_id  \\\n",
       "0       802906               6             487           12198   \n",
       "1        28830               8             900            2812   \n",
       "2        94947              21             363            8973   \n",
       "\n",
       "   count_floors_pre_eq  age  area_percentage  height_percentage  \\\n",
       "0                    2   30                6                  5   \n",
       "1                    2   10                8                  7   \n",
       "2                    2   10                5                  5   \n",
       "\n",
       "  land_surface_condition foundation_type  ... has_secondary_use_agriculture  \\\n",
       "0                      t               r  ...                             0   \n",
       "1                      o               r  ...                             0   \n",
       "2                      t               r  ...                             0   \n",
       "\n",
       "  has_secondary_use_hotel has_secondary_use_rental  \\\n",
       "0                       0                        0   \n",
       "1                       0                        0   \n",
       "2                       0                        0   \n",
       "\n",
       "  has_secondary_use_institution has_secondary_use_school  \\\n",
       "0                             0                        0   \n",
       "1                             0                        0   \n",
       "2                             0                        0   \n",
       "\n",
       "   has_secondary_use_industry  has_secondary_use_health_post  \\\n",
       "0                           0                              0   \n",
       "1                           0                              0   \n",
       "2                           0                              0   \n",
       "\n",
       "   has_secondary_use_gov_office  has_secondary_use_use_police  \\\n",
       "0                             0                             0   \n",
       "1                             0                             0   \n",
       "2                             0                             0   \n",
       "\n",
       "   has_secondary_use_other  \n",
       "0                        0  \n",
       "1                        0  \n",
       "2                        0  \n",
       "\n",
       "[3 rows x 39 columns]"
      ]
     },
     "execution_count": 3,
     "metadata": {},
     "output_type": "execute_result"
    }
   ],
   "source": [
    "print(X.shape)\n",
    "X.head(3)"
   ]
  },
  {
   "cell_type": "code",
   "execution_count": 4,
   "id": "7cd1a16b",
   "metadata": {},
   "outputs": [
    {
     "name": "stdout",
     "output_type": "stream",
     "text": [
      "(260601, 2)\n"
     ]
    },
    {
     "data": {
      "text/html": [
       "<div>\n",
       "<style scoped>\n",
       "    .dataframe tbody tr th:only-of-type {\n",
       "        vertical-align: middle;\n",
       "    }\n",
       "\n",
       "    .dataframe tbody tr th {\n",
       "        vertical-align: top;\n",
       "    }\n",
       "\n",
       "    .dataframe thead th {\n",
       "        text-align: right;\n",
       "    }\n",
       "</style>\n",
       "<table border=\"1\" class=\"dataframe\">\n",
       "  <thead>\n",
       "    <tr style=\"text-align: right;\">\n",
       "      <th></th>\n",
       "      <th>building_id</th>\n",
       "      <th>damage_grade</th>\n",
       "    </tr>\n",
       "  </thead>\n",
       "  <tbody>\n",
       "    <tr>\n",
       "      <th>0</th>\n",
       "      <td>802906</td>\n",
       "      <td>3</td>\n",
       "    </tr>\n",
       "    <tr>\n",
       "      <th>1</th>\n",
       "      <td>28830</td>\n",
       "      <td>2</td>\n",
       "    </tr>\n",
       "    <tr>\n",
       "      <th>2</th>\n",
       "      <td>94947</td>\n",
       "      <td>3</td>\n",
       "    </tr>\n",
       "  </tbody>\n",
       "</table>\n",
       "</div>"
      ],
      "text/plain": [
       "   building_id  damage_grade\n",
       "0       802906             3\n",
       "1        28830             2\n",
       "2        94947             3"
      ]
     },
     "execution_count": 4,
     "metadata": {},
     "output_type": "execute_result"
    }
   ],
   "source": [
    "print(labels.shape)\n",
    "labels.head(3)"
   ]
  },
  {
   "cell_type": "markdown",
   "id": "0deccf09",
   "metadata": {},
   "source": [
    "The number of records of X and y are exactly the same. X has all the features and y has their corresponding labels. We can merge both on _building_id_."
   ]
  },
  {
   "cell_type": "code",
   "execution_count": 5,
   "id": "e82931d8",
   "metadata": {},
   "outputs": [],
   "source": [
    "df = X.merge(labels, on = \"building_id\" )"
   ]
  },
  {
   "cell_type": "code",
   "execution_count": 6,
   "id": "afcc7920",
   "metadata": {},
   "outputs": [
    {
     "data": {
      "text/html": [
       "<div>\n",
       "<style scoped>\n",
       "    .dataframe tbody tr th:only-of-type {\n",
       "        vertical-align: middle;\n",
       "    }\n",
       "\n",
       "    .dataframe tbody tr th {\n",
       "        vertical-align: top;\n",
       "    }\n",
       "\n",
       "    .dataframe thead th {\n",
       "        text-align: right;\n",
       "    }\n",
       "</style>\n",
       "<table border=\"1\" class=\"dataframe\">\n",
       "  <thead>\n",
       "    <tr style=\"text-align: right;\">\n",
       "      <th></th>\n",
       "      <th>building_id</th>\n",
       "      <th>geo_level_1_id</th>\n",
       "      <th>geo_level_2_id</th>\n",
       "      <th>geo_level_3_id</th>\n",
       "      <th>count_floors_pre_eq</th>\n",
       "      <th>age</th>\n",
       "      <th>area_percentage</th>\n",
       "      <th>height_percentage</th>\n",
       "      <th>land_surface_condition</th>\n",
       "      <th>foundation_type</th>\n",
       "      <th>...</th>\n",
       "      <th>has_secondary_use_hotel</th>\n",
       "      <th>has_secondary_use_rental</th>\n",
       "      <th>has_secondary_use_institution</th>\n",
       "      <th>has_secondary_use_school</th>\n",
       "      <th>has_secondary_use_industry</th>\n",
       "      <th>has_secondary_use_health_post</th>\n",
       "      <th>has_secondary_use_gov_office</th>\n",
       "      <th>has_secondary_use_use_police</th>\n",
       "      <th>has_secondary_use_other</th>\n",
       "      <th>damage_grade</th>\n",
       "    </tr>\n",
       "  </thead>\n",
       "  <tbody>\n",
       "    <tr>\n",
       "      <th>0</th>\n",
       "      <td>802906</td>\n",
       "      <td>6</td>\n",
       "      <td>487</td>\n",
       "      <td>12198</td>\n",
       "      <td>2</td>\n",
       "      <td>30</td>\n",
       "      <td>6</td>\n",
       "      <td>5</td>\n",
       "      <td>t</td>\n",
       "      <td>r</td>\n",
       "      <td>...</td>\n",
       "      <td>0</td>\n",
       "      <td>0</td>\n",
       "      <td>0</td>\n",
       "      <td>0</td>\n",
       "      <td>0</td>\n",
       "      <td>0</td>\n",
       "      <td>0</td>\n",
       "      <td>0</td>\n",
       "      <td>0</td>\n",
       "      <td>3</td>\n",
       "    </tr>\n",
       "    <tr>\n",
       "      <th>1</th>\n",
       "      <td>28830</td>\n",
       "      <td>8</td>\n",
       "      <td>900</td>\n",
       "      <td>2812</td>\n",
       "      <td>2</td>\n",
       "      <td>10</td>\n",
       "      <td>8</td>\n",
       "      <td>7</td>\n",
       "      <td>o</td>\n",
       "      <td>r</td>\n",
       "      <td>...</td>\n",
       "      <td>0</td>\n",
       "      <td>0</td>\n",
       "      <td>0</td>\n",
       "      <td>0</td>\n",
       "      <td>0</td>\n",
       "      <td>0</td>\n",
       "      <td>0</td>\n",
       "      <td>0</td>\n",
       "      <td>0</td>\n",
       "      <td>2</td>\n",
       "    </tr>\n",
       "    <tr>\n",
       "      <th>2</th>\n",
       "      <td>94947</td>\n",
       "      <td>21</td>\n",
       "      <td>363</td>\n",
       "      <td>8973</td>\n",
       "      <td>2</td>\n",
       "      <td>10</td>\n",
       "      <td>5</td>\n",
       "      <td>5</td>\n",
       "      <td>t</td>\n",
       "      <td>r</td>\n",
       "      <td>...</td>\n",
       "      <td>0</td>\n",
       "      <td>0</td>\n",
       "      <td>0</td>\n",
       "      <td>0</td>\n",
       "      <td>0</td>\n",
       "      <td>0</td>\n",
       "      <td>0</td>\n",
       "      <td>0</td>\n",
       "      <td>0</td>\n",
       "      <td>3</td>\n",
       "    </tr>\n",
       "    <tr>\n",
       "      <th>3</th>\n",
       "      <td>590882</td>\n",
       "      <td>22</td>\n",
       "      <td>418</td>\n",
       "      <td>10694</td>\n",
       "      <td>2</td>\n",
       "      <td>10</td>\n",
       "      <td>6</td>\n",
       "      <td>5</td>\n",
       "      <td>t</td>\n",
       "      <td>r</td>\n",
       "      <td>...</td>\n",
       "      <td>0</td>\n",
       "      <td>0</td>\n",
       "      <td>0</td>\n",
       "      <td>0</td>\n",
       "      <td>0</td>\n",
       "      <td>0</td>\n",
       "      <td>0</td>\n",
       "      <td>0</td>\n",
       "      <td>0</td>\n",
       "      <td>2</td>\n",
       "    </tr>\n",
       "    <tr>\n",
       "      <th>4</th>\n",
       "      <td>201944</td>\n",
       "      <td>11</td>\n",
       "      <td>131</td>\n",
       "      <td>1488</td>\n",
       "      <td>3</td>\n",
       "      <td>30</td>\n",
       "      <td>8</td>\n",
       "      <td>9</td>\n",
       "      <td>t</td>\n",
       "      <td>r</td>\n",
       "      <td>...</td>\n",
       "      <td>0</td>\n",
       "      <td>0</td>\n",
       "      <td>0</td>\n",
       "      <td>0</td>\n",
       "      <td>0</td>\n",
       "      <td>0</td>\n",
       "      <td>0</td>\n",
       "      <td>0</td>\n",
       "      <td>0</td>\n",
       "      <td>3</td>\n",
       "    </tr>\n",
       "  </tbody>\n",
       "</table>\n",
       "<p>5 rows × 40 columns</p>\n",
       "</div>"
      ],
      "text/plain": [
       "   building_id  geo_level_1_id  geo_level_2_id  geo_level_3_id  \\\n",
       "0       802906               6             487           12198   \n",
       "1        28830               8             900            2812   \n",
       "2        94947              21             363            8973   \n",
       "3       590882              22             418           10694   \n",
       "4       201944              11             131            1488   \n",
       "\n",
       "   count_floors_pre_eq  age  area_percentage  height_percentage  \\\n",
       "0                    2   30                6                  5   \n",
       "1                    2   10                8                  7   \n",
       "2                    2   10                5                  5   \n",
       "3                    2   10                6                  5   \n",
       "4                    3   30                8                  9   \n",
       "\n",
       "  land_surface_condition foundation_type  ... has_secondary_use_hotel  \\\n",
       "0                      t               r  ...                       0   \n",
       "1                      o               r  ...                       0   \n",
       "2                      t               r  ...                       0   \n",
       "3                      t               r  ...                       0   \n",
       "4                      t               r  ...                       0   \n",
       "\n",
       "  has_secondary_use_rental has_secondary_use_institution  \\\n",
       "0                        0                             0   \n",
       "1                        0                             0   \n",
       "2                        0                             0   \n",
       "3                        0                             0   \n",
       "4                        0                             0   \n",
       "\n",
       "  has_secondary_use_school has_secondary_use_industry  \\\n",
       "0                        0                          0   \n",
       "1                        0                          0   \n",
       "2                        0                          0   \n",
       "3                        0                          0   \n",
       "4                        0                          0   \n",
       "\n",
       "   has_secondary_use_health_post  has_secondary_use_gov_office  \\\n",
       "0                              0                             0   \n",
       "1                              0                             0   \n",
       "2                              0                             0   \n",
       "3                              0                             0   \n",
       "4                              0                             0   \n",
       "\n",
       "   has_secondary_use_use_police  has_secondary_use_other  damage_grade  \n",
       "0                             0                        0             3  \n",
       "1                             0                        0             2  \n",
       "2                             0                        0             3  \n",
       "3                             0                        0             2  \n",
       "4                             0                        0             3  \n",
       "\n",
       "[5 rows x 40 columns]"
      ]
     },
     "execution_count": 6,
     "metadata": {},
     "output_type": "execute_result"
    }
   ],
   "source": [
    "df.head()"
   ]
  },
  {
   "cell_type": "code",
   "execution_count": 7,
   "id": "c24291ee",
   "metadata": {},
   "outputs": [
    {
     "name": "stdout",
     "output_type": "stream",
     "text": [
      "<class 'pandas.core.frame.DataFrame'>\n",
      "Int64Index: 260601 entries, 0 to 260600\n",
      "Data columns (total 40 columns):\n",
      " #   Column                                  Non-Null Count   Dtype \n",
      "---  ------                                  --------------   ----- \n",
      " 0   building_id                             260601 non-null  int64 \n",
      " 1   geo_level_1_id                          260601 non-null  int64 \n",
      " 2   geo_level_2_id                          260601 non-null  int64 \n",
      " 3   geo_level_3_id                          260601 non-null  int64 \n",
      " 4   count_floors_pre_eq                     260601 non-null  int64 \n",
      " 5   age                                     260601 non-null  int64 \n",
      " 6   area_percentage                         260601 non-null  int64 \n",
      " 7   height_percentage                       260601 non-null  int64 \n",
      " 8   land_surface_condition                  260601 non-null  object\n",
      " 9   foundation_type                         260601 non-null  object\n",
      " 10  roof_type                               260601 non-null  object\n",
      " 11  ground_floor_type                       260601 non-null  object\n",
      " 12  other_floor_type                        260601 non-null  object\n",
      " 13  position                                260601 non-null  object\n",
      " 14  plan_configuration                      260601 non-null  object\n",
      " 15  has_superstructure_adobe_mud            260601 non-null  int64 \n",
      " 16  has_superstructure_mud_mortar_stone     260601 non-null  int64 \n",
      " 17  has_superstructure_stone_flag           260601 non-null  int64 \n",
      " 18  has_superstructure_cement_mortar_stone  260601 non-null  int64 \n",
      " 19  has_superstructure_mud_mortar_brick     260601 non-null  int64 \n",
      " 20  has_superstructure_cement_mortar_brick  260601 non-null  int64 \n",
      " 21  has_superstructure_timber               260601 non-null  int64 \n",
      " 22  has_superstructure_bamboo               260601 non-null  int64 \n",
      " 23  has_superstructure_rc_non_engineered    260601 non-null  int64 \n",
      " 24  has_superstructure_rc_engineered        260601 non-null  int64 \n",
      " 25  has_superstructure_other                260601 non-null  int64 \n",
      " 26  legal_ownership_status                  260601 non-null  object\n",
      " 27  count_families                          260601 non-null  int64 \n",
      " 28  has_secondary_use                       260601 non-null  int64 \n",
      " 29  has_secondary_use_agriculture           260601 non-null  int64 \n",
      " 30  has_secondary_use_hotel                 260601 non-null  int64 \n",
      " 31  has_secondary_use_rental                260601 non-null  int64 \n",
      " 32  has_secondary_use_institution           260601 non-null  int64 \n",
      " 33  has_secondary_use_school                260601 non-null  int64 \n",
      " 34  has_secondary_use_industry              260601 non-null  int64 \n",
      " 35  has_secondary_use_health_post           260601 non-null  int64 \n",
      " 36  has_secondary_use_gov_office            260601 non-null  int64 \n",
      " 37  has_secondary_use_use_police            260601 non-null  int64 \n",
      " 38  has_secondary_use_other                 260601 non-null  int64 \n",
      " 39  damage_grade                            260601 non-null  int64 \n",
      "dtypes: int64(32), object(8)\n",
      "memory usage: 81.5+ MB\n"
     ]
    }
   ],
   "source": [
    "df.info()"
   ]
  },
  {
   "cell_type": "markdown",
   "id": "9b010829",
   "metadata": {},
   "source": [
    "The dataset has no non-null values. We shall explore the various features provided."
   ]
  },
  {
   "cell_type": "code",
   "execution_count": 8,
   "id": "5062e96d",
   "metadata": {},
   "outputs": [
    {
     "data": {
      "text/plain": [
       "building_id                               260601\n",
       "geo_level_1_id                                31\n",
       "geo_level_2_id                              1414\n",
       "geo_level_3_id                             11595\n",
       "count_floors_pre_eq                            9\n",
       "age                                           42\n",
       "area_percentage                               84\n",
       "height_percentage                             27\n",
       "land_surface_condition                         3\n",
       "foundation_type                                5\n",
       "roof_type                                      3\n",
       "ground_floor_type                              5\n",
       "other_floor_type                               4\n",
       "position                                       4\n",
       "plan_configuration                            10\n",
       "has_superstructure_adobe_mud                   2\n",
       "has_superstructure_mud_mortar_stone            2\n",
       "has_superstructure_stone_flag                  2\n",
       "has_superstructure_cement_mortar_stone         2\n",
       "has_superstructure_mud_mortar_brick            2\n",
       "has_superstructure_cement_mortar_brick         2\n",
       "has_superstructure_timber                      2\n",
       "has_superstructure_bamboo                      2\n",
       "has_superstructure_rc_non_engineered           2\n",
       "has_superstructure_rc_engineered               2\n",
       "has_superstructure_other                       2\n",
       "legal_ownership_status                         4\n",
       "count_families                                10\n",
       "has_secondary_use                              2\n",
       "has_secondary_use_agriculture                  2\n",
       "has_secondary_use_hotel                        2\n",
       "has_secondary_use_rental                       2\n",
       "has_secondary_use_institution                  2\n",
       "has_secondary_use_school                       2\n",
       "has_secondary_use_industry                     2\n",
       "has_secondary_use_health_post                  2\n",
       "has_secondary_use_gov_office                   2\n",
       "has_secondary_use_use_police                   2\n",
       "has_secondary_use_other                        2\n",
       "damage_grade                                   3\n",
       "dtype: int64"
      ]
     },
     "execution_count": 8,
     "metadata": {},
     "output_type": "execute_result"
    }
   ],
   "source": [
    "df.nunique()"
   ]
  },
  {
   "cell_type": "markdown",
   "id": "cbaf8ad0",
   "metadata": {},
   "source": [
    "It seams that most of the features are categorical, with many being a binary feature (probably an yes/no feature). Let's get the column names of all the columns that has unique values less than 10 and further investigate."
   ]
  },
  {
   "cell_type": "code",
   "execution_count": 9,
   "id": "1daa8021",
   "metadata": {},
   "outputs": [
    {
     "data": {
      "text/plain": [
       "Index(['count_floors_pre_eq', 'land_surface_condition', 'foundation_type',\n",
       "       'roof_type', 'ground_floor_type', 'other_floor_type', 'position',\n",
       "       'plan_configuration', 'has_superstructure_adobe_mud',\n",
       "       'has_superstructure_mud_mortar_stone', 'has_superstructure_stone_flag',\n",
       "       'has_superstructure_cement_mortar_stone',\n",
       "       'has_superstructure_mud_mortar_brick',\n",
       "       'has_superstructure_cement_mortar_brick', 'has_superstructure_timber',\n",
       "       'has_superstructure_bamboo', 'has_superstructure_rc_non_engineered',\n",
       "       'has_superstructure_rc_engineered', 'has_superstructure_other',\n",
       "       'legal_ownership_status', 'count_families', 'has_secondary_use',\n",
       "       'has_secondary_use_agriculture', 'has_secondary_use_hotel',\n",
       "       'has_secondary_use_rental', 'has_secondary_use_institution',\n",
       "       'has_secondary_use_school', 'has_secondary_use_industry',\n",
       "       'has_secondary_use_health_post', 'has_secondary_use_gov_office',\n",
       "       'has_secondary_use_use_police', 'has_secondary_use_other',\n",
       "       'damage_grade'],\n",
       "      dtype='object')"
      ]
     },
     "execution_count": 9,
     "metadata": {},
     "output_type": "execute_result"
    }
   ],
   "source": [
    "categorical_columns = df.nunique()[df.nunique() <= 10].index\n",
    "\n",
    "categorical_columns"
   ]
  },
  {
   "cell_type": "code",
   "execution_count": 10,
   "id": "4f24b79f",
   "metadata": {
    "scrolled": false
   },
   "outputs": [
    {
     "data": {
      "text/plain": [
       "<AxesSubplot:>"
      ]
     },
     "execution_count": 10,
     "metadata": {},
     "output_type": "execute_result"
    },
    {
     "data": {
      "image/png": "[encoded data removed]",
      "text/plain": [
       "<Figure size 720x504 with 2 Axes>"
      ]
     },
     "metadata": {
      "needs_background": "light"
     },
     "output_type": "display_data"
    }
   ],
   "source": [
    "cmap = sns.light_palette(\"#000000\", as_cmap=True)\n",
    "association = associations(df[categorical_columns].astype(str), compute_only = True)\n",
    "\n",
    "plt.subplots(figsize = (10, 7))\n",
    "sns.heatmap(association[\"corr\"], mask = np.tril(association[\"corr\"]) == 0, cmap = cmap, linewidths = 0.2)"
   ]
  },
  {
   "cell_type": "markdown",
   "id": "bd802ca1",
   "metadata": {},
   "source": [
    "From the associations plot, we can see that the features foundation type, roof rype, ground floor type, other floor type and position are highly associated with the superstructure features. Let's only use the superstructure features.\n",
    "\n",
    "Also, it can be seen that \"has_secondary_use\" is just a redundant information, probably if any of the secondary use column is true, then \"has_secondary_use\" would also be marked as True. Let's verify this."
   ]
  },
  {
   "cell_type": "code",
   "execution_count": 11,
   "id": "8ebd0d91",
   "metadata": {},
   "outputs": [
    {
     "data": {
      "text/html": [
       "<div>\n",
       "<style scoped>\n",
       "    .dataframe tbody tr th:only-of-type {\n",
       "        vertical-align: middle;\n",
       "    }\n",
       "\n",
       "    .dataframe tbody tr th {\n",
       "        vertical-align: top;\n",
       "    }\n",
       "\n",
       "    .dataframe thead th {\n",
       "        text-align: right;\n",
       "    }\n",
       "</style>\n",
       "<table border=\"1\" class=\"dataframe\">\n",
       "  <thead>\n",
       "    <tr style=\"text-align: right;\">\n",
       "      <th></th>\n",
       "      <th>has_secondary_use</th>\n",
       "      <th>has_secondary_use_agriculture</th>\n",
       "      <th>has_secondary_use_hotel</th>\n",
       "      <th>has_secondary_use_rental</th>\n",
       "      <th>has_secondary_use_institution</th>\n",
       "      <th>has_secondary_use_school</th>\n",
       "      <th>has_secondary_use_industry</th>\n",
       "      <th>has_secondary_use_health_post</th>\n",
       "      <th>has_secondary_use_gov_office</th>\n",
       "      <th>has_secondary_use_use_police</th>\n",
       "      <th>has_secondary_use_other</th>\n",
       "    </tr>\n",
       "  </thead>\n",
       "  <tbody>\n",
       "    <tr>\n",
       "      <th>0</th>\n",
       "      <td>0</td>\n",
       "      <td>0</td>\n",
       "      <td>0</td>\n",
       "      <td>0</td>\n",
       "      <td>0</td>\n",
       "      <td>0</td>\n",
       "      <td>0</td>\n",
       "      <td>0</td>\n",
       "      <td>0</td>\n",
       "      <td>0</td>\n",
       "      <td>0</td>\n",
       "    </tr>\n",
       "    <tr>\n",
       "      <th>1</th>\n",
       "      <td>0</td>\n",
       "      <td>0</td>\n",
       "      <td>0</td>\n",
       "      <td>0</td>\n",
       "      <td>0</td>\n",
       "      <td>0</td>\n",
       "      <td>0</td>\n",
       "      <td>0</td>\n",
       "      <td>0</td>\n",
       "      <td>0</td>\n",
       "      <td>0</td>\n",
       "    </tr>\n",
       "    <tr>\n",
       "      <th>2</th>\n",
       "      <td>0</td>\n",
       "      <td>0</td>\n",
       "      <td>0</td>\n",
       "      <td>0</td>\n",
       "      <td>0</td>\n",
       "      <td>0</td>\n",
       "      <td>0</td>\n",
       "      <td>0</td>\n",
       "      <td>0</td>\n",
       "      <td>0</td>\n",
       "      <td>0</td>\n",
       "    </tr>\n",
       "    <tr>\n",
       "      <th>3</th>\n",
       "      <td>0</td>\n",
       "      <td>0</td>\n",
       "      <td>0</td>\n",
       "      <td>0</td>\n",
       "      <td>0</td>\n",
       "      <td>0</td>\n",
       "      <td>0</td>\n",
       "      <td>0</td>\n",
       "      <td>0</td>\n",
       "      <td>0</td>\n",
       "      <td>0</td>\n",
       "    </tr>\n",
       "    <tr>\n",
       "      <th>4</th>\n",
       "      <td>0</td>\n",
       "      <td>0</td>\n",
       "      <td>0</td>\n",
       "      <td>0</td>\n",
       "      <td>0</td>\n",
       "      <td>0</td>\n",
       "      <td>0</td>\n",
       "      <td>0</td>\n",
       "      <td>0</td>\n",
       "      <td>0</td>\n",
       "      <td>0</td>\n",
       "    </tr>\n",
       "    <tr>\n",
       "      <th>...</th>\n",
       "      <td>...</td>\n",
       "      <td>...</td>\n",
       "      <td>...</td>\n",
       "      <td>...</td>\n",
       "      <td>...</td>\n",
       "      <td>...</td>\n",
       "      <td>...</td>\n",
       "      <td>...</td>\n",
       "      <td>...</td>\n",
       "      <td>...</td>\n",
       "      <td>...</td>\n",
       "    </tr>\n",
       "    <tr>\n",
       "      <th>260596</th>\n",
       "      <td>0</td>\n",
       "      <td>0</td>\n",
       "      <td>0</td>\n",
       "      <td>0</td>\n",
       "      <td>0</td>\n",
       "      <td>0</td>\n",
       "      <td>0</td>\n",
       "      <td>0</td>\n",
       "      <td>0</td>\n",
       "      <td>0</td>\n",
       "      <td>0</td>\n",
       "    </tr>\n",
       "    <tr>\n",
       "      <th>260597</th>\n",
       "      <td>0</td>\n",
       "      <td>0</td>\n",
       "      <td>0</td>\n",
       "      <td>0</td>\n",
       "      <td>0</td>\n",
       "      <td>0</td>\n",
       "      <td>0</td>\n",
       "      <td>0</td>\n",
       "      <td>0</td>\n",
       "      <td>0</td>\n",
       "      <td>0</td>\n",
       "    </tr>\n",
       "    <tr>\n",
       "      <th>260598</th>\n",
       "      <td>0</td>\n",
       "      <td>0</td>\n",
       "      <td>0</td>\n",
       "      <td>0</td>\n",
       "      <td>0</td>\n",
       "      <td>0</td>\n",
       "      <td>0</td>\n",
       "      <td>0</td>\n",
       "      <td>0</td>\n",
       "      <td>0</td>\n",
       "      <td>0</td>\n",
       "    </tr>\n",
       "    <tr>\n",
       "      <th>260599</th>\n",
       "      <td>0</td>\n",
       "      <td>0</td>\n",
       "      <td>0</td>\n",
       "      <td>0</td>\n",
       "      <td>0</td>\n",
       "      <td>0</td>\n",
       "      <td>0</td>\n",
       "      <td>0</td>\n",
       "      <td>0</td>\n",
       "      <td>0</td>\n",
       "      <td>0</td>\n",
       "    </tr>\n",
       "    <tr>\n",
       "      <th>260600</th>\n",
       "      <td>0</td>\n",
       "      <td>0</td>\n",
       "      <td>0</td>\n",
       "      <td>0</td>\n",
       "      <td>0</td>\n",
       "      <td>0</td>\n",
       "      <td>0</td>\n",
       "      <td>0</td>\n",
       "      <td>0</td>\n",
       "      <td>0</td>\n",
       "      <td>0</td>\n",
       "    </tr>\n",
       "  </tbody>\n",
       "</table>\n",
       "<p>260601 rows × 11 columns</p>\n",
       "</div>"
      ],
      "text/plain": [
       "        has_secondary_use  has_secondary_use_agriculture  \\\n",
       "0                       0                              0   \n",
       "1                       0                              0   \n",
       "2                       0                              0   \n",
       "3                       0                              0   \n",
       "4                       0                              0   \n",
       "...                   ...                            ...   \n",
       "260596                  0                              0   \n",
       "260597                  0                              0   \n",
       "260598                  0                              0   \n",
       "260599                  0                              0   \n",
       "260600                  0                              0   \n",
       "\n",
       "        has_secondary_use_hotel  has_secondary_use_rental  \\\n",
       "0                             0                         0   \n",
       "1                             0                         0   \n",
       "2                             0                         0   \n",
       "3                             0                         0   \n",
       "4                             0                         0   \n",
       "...                         ...                       ...   \n",
       "260596                        0                         0   \n",
       "260597                        0                         0   \n",
       "260598                        0                         0   \n",
       "260599                        0                         0   \n",
       "260600                        0                         0   \n",
       "\n",
       "        has_secondary_use_institution  has_secondary_use_school  \\\n",
       "0                                   0                         0   \n",
       "1                                   0                         0   \n",
       "2                                   0                         0   \n",
       "3                                   0                         0   \n",
       "4                                   0                         0   \n",
       "...                               ...                       ...   \n",
       "260596                              0                         0   \n",
       "260597                              0                         0   \n",
       "260598                              0                         0   \n",
       "260599                              0                         0   \n",
       "260600                              0                         0   \n",
       "\n",
       "        has_secondary_use_industry  has_secondary_use_health_post  \\\n",
       "0                                0                              0   \n",
       "1                                0                              0   \n",
       "2                                0                              0   \n",
       "3                                0                              0   \n",
       "4                                0                              0   \n",
       "...                            ...                            ...   \n",
       "260596                           0                              0   \n",
       "260597                           0                              0   \n",
       "260598                           0                              0   \n",
       "260599                           0                              0   \n",
       "260600                           0                              0   \n",
       "\n",
       "        has_secondary_use_gov_office  has_secondary_use_use_police  \\\n",
       "0                                  0                             0   \n",
       "1                                  0                             0   \n",
       "2                                  0                             0   \n",
       "3                                  0                             0   \n",
       "4                                  0                             0   \n",
       "...                              ...                           ...   \n",
       "260596                             0                             0   \n",
       "260597                             0                             0   \n",
       "260598                             0                             0   \n",
       "260599                             0                             0   \n",
       "260600                             0                             0   \n",
       "\n",
       "        has_secondary_use_other  \n",
       "0                             0  \n",
       "1                             0  \n",
       "2                             0  \n",
       "3                             0  \n",
       "4                             0  \n",
       "...                         ...  \n",
       "260596                        0  \n",
       "260597                        0  \n",
       "260598                        0  \n",
       "260599                        0  \n",
       "260600                        0  \n",
       "\n",
       "[260601 rows x 11 columns]"
      ]
     },
     "execution_count": 11,
     "metadata": {},
     "output_type": "execute_result"
    }
   ],
   "source": [
    "has_sec_df = df[[col for col in categorical_columns if \"has_secondary\" in col]]\n",
    "\n",
    "has_sec_df"
   ]
  },
  {
   "cell_type": "code",
   "execution_count": 12,
   "id": "c04f8fc8",
   "metadata": {},
   "outputs": [
    {
     "data": {
      "text/plain": [
       "False"
      ]
     },
     "execution_count": 12,
     "metadata": {},
     "output_type": "execute_result"
    }
   ],
   "source": [
    "(has_sec_df.iloc[:, 1:].sum(axis = 1) == has_sec_df.iloc[:, 0]).all()"
   ]
  },
  {
   "cell_type": "code",
   "execution_count": 13,
   "id": "cd88db1e",
   "metadata": {},
   "outputs": [
    {
     "name": "stdout",
     "output_type": "stream",
     "text": [
      "(557, 11)\n"
     ]
    },
    {
     "data": {
      "text/html": [
       "<div>\n",
       "<style scoped>\n",
       "    .dataframe tbody tr th:only-of-type {\n",
       "        vertical-align: middle;\n",
       "    }\n",
       "\n",
       "    .dataframe tbody tr th {\n",
       "        vertical-align: top;\n",
       "    }\n",
       "\n",
       "    .dataframe thead th {\n",
       "        text-align: right;\n",
       "    }\n",
       "</style>\n",
       "<table border=\"1\" class=\"dataframe\">\n",
       "  <thead>\n",
       "    <tr style=\"text-align: right;\">\n",
       "      <th></th>\n",
       "      <th>has_secondary_use</th>\n",
       "      <th>has_secondary_use_agriculture</th>\n",
       "      <th>has_secondary_use_hotel</th>\n",
       "      <th>has_secondary_use_rental</th>\n",
       "      <th>has_secondary_use_institution</th>\n",
       "      <th>has_secondary_use_school</th>\n",
       "      <th>has_secondary_use_industry</th>\n",
       "      <th>has_secondary_use_health_post</th>\n",
       "      <th>has_secondary_use_gov_office</th>\n",
       "      <th>has_secondary_use_use_police</th>\n",
       "      <th>has_secondary_use_other</th>\n",
       "    </tr>\n",
       "  </thead>\n",
       "  <tbody>\n",
       "    <tr>\n",
       "      <th>304</th>\n",
       "      <td>1</td>\n",
       "      <td>1</td>\n",
       "      <td>0</td>\n",
       "      <td>0</td>\n",
       "      <td>0</td>\n",
       "      <td>0</td>\n",
       "      <td>0</td>\n",
       "      <td>0</td>\n",
       "      <td>0</td>\n",
       "      <td>0</td>\n",
       "      <td>1</td>\n",
       "    </tr>\n",
       "    <tr>\n",
       "      <th>1408</th>\n",
       "      <td>1</td>\n",
       "      <td>1</td>\n",
       "      <td>0</td>\n",
       "      <td>0</td>\n",
       "      <td>0</td>\n",
       "      <td>0</td>\n",
       "      <td>0</td>\n",
       "      <td>0</td>\n",
       "      <td>0</td>\n",
       "      <td>0</td>\n",
       "      <td>1</td>\n",
       "    </tr>\n",
       "    <tr>\n",
       "      <th>1593</th>\n",
       "      <td>1</td>\n",
       "      <td>1</td>\n",
       "      <td>0</td>\n",
       "      <td>0</td>\n",
       "      <td>0</td>\n",
       "      <td>0</td>\n",
       "      <td>0</td>\n",
       "      <td>0</td>\n",
       "      <td>0</td>\n",
       "      <td>0</td>\n",
       "      <td>1</td>\n",
       "    </tr>\n",
       "    <tr>\n",
       "      <th>2329</th>\n",
       "      <td>1</td>\n",
       "      <td>1</td>\n",
       "      <td>0</td>\n",
       "      <td>0</td>\n",
       "      <td>0</td>\n",
       "      <td>0</td>\n",
       "      <td>0</td>\n",
       "      <td>0</td>\n",
       "      <td>0</td>\n",
       "      <td>0</td>\n",
       "      <td>1</td>\n",
       "    </tr>\n",
       "    <tr>\n",
       "      <th>3704</th>\n",
       "      <td>1</td>\n",
       "      <td>0</td>\n",
       "      <td>1</td>\n",
       "      <td>0</td>\n",
       "      <td>0</td>\n",
       "      <td>0</td>\n",
       "      <td>0</td>\n",
       "      <td>0</td>\n",
       "      <td>0</td>\n",
       "      <td>0</td>\n",
       "      <td>1</td>\n",
       "    </tr>\n",
       "  </tbody>\n",
       "</table>\n",
       "</div>"
      ],
      "text/plain": [
       "      has_secondary_use  has_secondary_use_agriculture  \\\n",
       "304                   1                              1   \n",
       "1408                  1                              1   \n",
       "1593                  1                              1   \n",
       "2329                  1                              1   \n",
       "3704                  1                              0   \n",
       "\n",
       "      has_secondary_use_hotel  has_secondary_use_rental  \\\n",
       "304                         0                         0   \n",
       "1408                        0                         0   \n",
       "1593                        0                         0   \n",
       "2329                        0                         0   \n",
       "3704                        1                         0   \n",
       "\n",
       "      has_secondary_use_institution  has_secondary_use_school  \\\n",
       "304                               0                         0   \n",
       "1408                              0                         0   \n",
       "1593                              0                         0   \n",
       "2329                              0                         0   \n",
       "3704                              0                         0   \n",
       "\n",
       "      has_secondary_use_industry  has_secondary_use_health_post  \\\n",
       "304                            0                              0   \n",
       "1408                           0                              0   \n",
       "1593                           0                              0   \n",
       "2329                           0                              0   \n",
       "3704                           0                              0   \n",
       "\n",
       "      has_secondary_use_gov_office  has_secondary_use_use_police  \\\n",
       "304                              0                             0   \n",
       "1408                             0                             0   \n",
       "1593                             0                             0   \n",
       "2329                             0                             0   \n",
       "3704                             0                             0   \n",
       "\n",
       "      has_secondary_use_other  \n",
       "304                         1  \n",
       "1408                        1  \n",
       "1593                        1  \n",
       "2329                        1  \n",
       "3704                        1  "
      ]
     },
     "execution_count": 13,
     "metadata": {},
     "output_type": "execute_result"
    }
   ],
   "source": [
    "print(has_sec_df[(has_sec_df.iloc[:, 1:].sum(axis = 1) != has_sec_df.iloc[:, 0])].shape)\n",
    "\n",
    "has_sec_df[(has_sec_df.iloc[:, 1:].sum(axis = 1) != has_sec_df.iloc[:, 0])].head(5)"
   ]
  },
  {
   "cell_type": "markdown",
   "id": "11e9758c",
   "metadata": {},
   "source": [
    "From the investigation, it seems that few records has multiple secondary purpose, which was inferred after checking if the sum of all the secondary uses equals to \"has_secondary_use\" column. \n",
    "\n",
    "But still, the \"has_secondary_use\" is redundant as our initial guess. With that, we can have two approaches while training the model. \n",
    "* Only using the main column.\n",
    "* Dropping the main column and using every other columns."
   ]
  },
  {
   "cell_type": "markdown",
   "id": "371fdb7a",
   "metadata": {},
   "source": [
    "The building height feature and the floor count feature would probably be highly correlated. Let's check their correlation coefficient."
   ]
  },
  {
   "cell_type": "code",
   "execution_count": 14,
   "id": "f9e5affa",
   "metadata": {},
   "outputs": [
    {
     "name": "stdout",
     "output_type": "stream",
     "text": [
      "Pearson-correlation between height and the number of floors is 0.7727343845139328\n"
     ]
    }
   ],
   "source": [
    "print(\"Pearson-correlation between height and the number of floors is\",df[\"height_percentage\"].corr(df[\"count_floors_pre_eq\"]))"
   ]
  },
  {
   "cell_type": "markdown",
   "id": "cbef399e",
   "metadata": {},
   "source": [
    "They have a high correlation. Let's see, which contributes most in predicting the label by determining the correlation-coefficient with the target variable."
   ]
  },
  {
   "cell_type": "code",
   "execution_count": 15,
   "id": "362c12bd",
   "metadata": {},
   "outputs": [
    {
     "data": {
      "text/plain": [
       "height_percentage      0.048130\n",
       "count_floors_pre_eq    0.122308\n",
       "dtype: float64"
      ]
     },
     "execution_count": 15,
     "metadata": {},
     "output_type": "execute_result"
    }
   ],
   "source": [
    "df[[\"height_percentage\", \"count_floors_pre_eq\"]].corrwith(df[\"damage_grade\"])"
   ]
  },
  {
   "cell_type": "markdown",
   "id": "166feb7a",
   "metadata": {},
   "source": [
    "Floor count has 12% pearson-coefficient with the damage grade. So, we can drop height_percentage."
   ]
  },
  {
   "cell_type": "code",
   "execution_count": 16,
   "id": "e87fb2ba",
   "metadata": {},
   "outputs": [
    {
     "data": {
      "text/plain": [
       "Index(['count_floors_pre_eq', 'land_surface_condition', 'foundation_type',\n",
       "       'roof_type', 'ground_floor_type', 'other_floor_type', 'position',\n",
       "       'plan_configuration', 'has_superstructure_adobe_mud',\n",
       "       'has_superstructure_mud_mortar_stone', 'has_superstructure_stone_flag',\n",
       "       'has_superstructure_cement_mortar_stone',\n",
       "       'has_superstructure_mud_mortar_brick',\n",
       "       'has_superstructure_cement_mortar_brick', 'has_superstructure_timber',\n",
       "       'has_superstructure_bamboo', 'has_superstructure_rc_non_engineered',\n",
       "       'has_superstructure_rc_engineered', 'has_superstructure_other',\n",
       "       'legal_ownership_status', 'count_families', 'has_secondary_use',\n",
       "       'has_secondary_use_agriculture', 'has_secondary_use_hotel',\n",
       "       'has_secondary_use_rental', 'has_secondary_use_institution',\n",
       "       'has_secondary_use_school', 'has_secondary_use_industry',\n",
       "       'has_secondary_use_health_post', 'has_secondary_use_gov_office',\n",
       "       'has_secondary_use_use_police', 'has_secondary_use_other',\n",
       "       'damage_grade'],\n",
       "      dtype='object')"
      ]
     },
     "execution_count": 16,
     "metadata": {},
     "output_type": "execute_result"
    }
   ],
   "source": [
    "categorical_columns"
   ]
  },
  {
   "cell_type": "markdown",
   "id": "25187a86",
   "metadata": {},
   "source": [
    "Initial assumption of important categorical features that contributes to the damage prediction from the correlation plot are,\n",
    "\n",
    "* Land surface condition\n",
    "* Has adobe mud superstructure\n",
    "* Has mud-mortar-stone super-structure\n",
    "* Has superstructure stone flag\n",
    "* Has cement-mortar-stone super-structure\n",
    "* Has cement-mortat-brick super-structure\n",
    "* Has super-structure timber\n",
    "* Has super-structure bamboo\n",
    "* Has super-structure-RC non-engineered\n",
    "* Has super-structure-RC engineered\n",
    "* Has secondary use\n",
    "\n",
    "The floor count feature should problably be a numerical feature as the number of floor should influence the co-efficient of feature importance in predicting the damage grade"
   ]
  },
  {
   "cell_type": "markdown",
   "id": "3799844b",
   "metadata": {},
   "source": [
    "Let's now get the remaining numerical variables"
   ]
  },
  {
   "cell_type": "code",
   "execution_count": 17,
   "id": "b78fd620",
   "metadata": {},
   "outputs": [
    {
     "data": {
      "text/plain": [
       "['building_id',\n",
       " 'geo_level_1_id',\n",
       " 'geo_level_2_id',\n",
       " 'geo_level_3_id',\n",
       " 'age',\n",
       " 'area_percentage',\n",
       " 'height_percentage']"
      ]
     },
     "execution_count": 17,
     "metadata": {},
     "output_type": "execute_result"
    }
   ],
   "source": [
    "numerical_columns = [col for col in df.columns if col not in categorical_columns]\n",
    "\n",
    "numerical_columns"
   ]
  },
  {
   "cell_type": "code",
   "execution_count": 18,
   "id": "ba1551ee",
   "metadata": {},
   "outputs": [
    {
     "data": {
      "text/plain": [
       "geo_level_1_id       31\n",
       "geo_level_2_id     1414\n",
       "geo_level_3_id    11595\n",
       "dtype: int64"
      ]
     },
     "execution_count": 18,
     "metadata": {},
     "output_type": "execute_result"
    }
   ],
   "source": [
    "df[numerical_columns].iloc[:,1:4].nunique()"
   ]
  },
  {
   "cell_type": "markdown",
   "id": "83516dd9",
   "metadata": {},
   "source": [
    "The geo_level represents the geographical location of the building. It does not make sense to use them as numerical feature. As an initial approach, we shall add level 1 into the categorical column and drop level 2 and level 3.\n",
    "\n",
    "Age of the building and the area are the features, that should be used in building our model. Height feature can be dropped as it has a high correlation with floor count."
   ]
  },
  {
   "cell_type": "code",
   "execution_count": 19,
   "id": "e5dd8b6e",
   "metadata": {},
   "outputs": [
    {
     "data": {
      "text/plain": [
       "array(['geo_level_1_id', 'land_surface_condition', 'plan_configuration',\n",
       "       'has_superstructure_adobe_mud',\n",
       "       'has_superstructure_mud_mortar_stone',\n",
       "       'has_superstructure_stone_flag',\n",
       "       'has_superstructure_cement_mortar_stone',\n",
       "       'has_superstructure_mud_mortar_brick',\n",
       "       'has_superstructure_cement_mortar_brick',\n",
       "       'has_superstructure_timber', 'has_superstructure_bamboo',\n",
       "       'has_superstructure_rc_non_engineered',\n",
       "       'has_superstructure_rc_engineered', 'has_secondary_use'],\n",
       "      dtype='<U38')"
      ]
     },
     "execution_count": 19,
     "metadata": {},
     "output_type": "execute_result"
    }
   ],
   "source": [
    "categorical_features = np.array(\n",
    "    [\"geo_level_1_id\", \"land_surface_condition\", \"plan_configuration\", \"has_superstructure_adobe_mud\",\n",
    "     \"has_superstructure_mud_mortar_stone\", \"has_superstructure_stone_flag\", \n",
    "     \"has_superstructure_cement_mortar_stone\", \"has_superstructure_mud_mortar_brick\",\n",
    "     \"has_superstructure_cement_mortar_brick\", \"has_superstructure_timber\",\n",
    "     \"has_superstructure_bamboo\", \"has_superstructure_rc_non_engineered\", \n",
    "     \"has_superstructure_rc_engineered\", \"has_secondary_use\"])\n",
    "\n",
    "categorical_features"
   ]
  },
  {
   "cell_type": "code",
   "execution_count": 20,
   "id": "6ca21267",
   "metadata": {},
   "outputs": [
    {
     "data": {
      "text/plain": [
       "array(['count_floors_pre_eq', 'age', 'area_percentage'], dtype='<U19')"
      ]
     },
     "execution_count": 20,
     "metadata": {},
     "output_type": "execute_result"
    }
   ],
   "source": [
    "numerical_features = np.array(\n",
    "    [\"count_floors_pre_eq\", \"age\", \"area_percentage\"]\n",
    ")\n",
    "\n",
    "numerical_features"
   ]
  },
  {
   "cell_type": "markdown",
   "id": "8deca82b",
   "metadata": {},
   "source": [
    "## Models"
   ]
  },
  {
   "cell_type": "markdown",
   "id": "c1fc2bde",
   "metadata": {},
   "source": [
    "Let's define a function, that prints the score and confusion matrix of a model."
   ]
  },
  {
   "cell_type": "code",
   "execution_count": 21,
   "id": "1d4f22cd",
   "metadata": {},
   "outputs": [],
   "source": [
    "from sklearn.base import BaseEstimator, RegressorMixin, ClassifierMixin, clone\n",
    "from sklearn.metrics import confusion_matrix, f1_score"
   ]
  },
  {
   "cell_type": "code",
   "execution_count": 22,
   "id": "07f9fc5b",
   "metadata": {},
   "outputs": [],
   "source": [
    "def metric(model, X, y):\n",
    "    print(\"f1-micro score: \", round(f1_score(y, model.predict(X), average = \"micro\"), 4))\n",
    "    \n",
    "    cm = confusion_matrix(y, model.predict(X))\n",
    "    cm_df = pd.DataFrame(cm, \n",
    "                         index = [\"Grade 1\", \"Grade 2\", \"Grade 3\"],\n",
    "                         columns = [\"Grade 1\", \"Grade 2\", \"Grade 3\"])\n",
    "\n",
    "    sns.heatmap(cm_df, annot = True, \n",
    "                cmap = ListedColormap([\"white\"]), \n",
    "                linewidths = 0.2, \n",
    "                linecolor = \"black\", \n",
    "                cbar = False, \n",
    "                fmt='g')\n",
    "    plt.title('Confusion Matrix')\n",
    "    plt.ylabel('Actal Values', size = 12)\n",
    "    plt.xlabel('Predicted Values', size = 12)\n",
    "    plt.show()"
   ]
  },
  {
   "cell_type": "markdown",
   "id": "ef1218e5",
   "metadata": {},
   "source": [
    "### Baseline - Naive model, that estimates the majority class"
   ]
  },
  {
   "cell_type": "code",
   "execution_count": 23,
   "id": "f590bfe5",
   "metadata": {},
   "outputs": [],
   "source": [
    "y = labels[\"damage_grade\"]"
   ]
  },
  {
   "cell_type": "code",
   "execution_count": 24,
   "id": "a93f1454",
   "metadata": {},
   "outputs": [],
   "source": [
    "class MajorityEstimator(BaseEstimator, RegressorMixin):\n",
    "    def __init__(self):\n",
    "        pass\n",
    "    \n",
    "    def fit(self, X, y):\n",
    "        self.majority_ = y.value_counts().idxmax()\n",
    "        return self\n",
    "        \n",
    "    def predict(self, X):\n",
    "        return self.majority_ * np.ones(len(X))"
   ]
  },
  {
   "cell_type": "code",
   "execution_count": 25,
   "id": "bee9cc79",
   "metadata": {},
   "outputs": [],
   "source": [
    "naive_model = MajorityEstimator().fit(X, y)"
   ]
  },
  {
   "cell_type": "code",
   "execution_count": 26,
   "id": "8800b616",
   "metadata": {},
   "outputs": [],
   "source": [
    "y_pred_naive = naive_model.predict(X)"
   ]
  },
  {
   "cell_type": "code",
   "execution_count": 27,
   "id": "86625d4c",
   "metadata": {},
   "outputs": [
    {
     "name": "stdout",
     "output_type": "stream",
     "text": [
      "f1-micro score:  0.5689\n"
     ]
    },
    {
     "data": {
      "image/png": "[encoded data removed]",
      "text/plain": [
       "<Figure size 432x288 with 1 Axes>"
      ]
     },
     "metadata": {
      "needs_background": "light"
     },
     "output_type": "display_data"
    }
   ],
   "source": [
    "metric(naive_model, X, y)"
   ]
  },
  {
   "cell_type": "markdown",
   "id": "ecbbf9bd",
   "metadata": {},
   "source": [
    "The baseline f1-micro score is 0.5689.\n",
    "\n",
    "### Logistic regression\n",
    "Let's start with a simple Logistic regression model with cross-validation and see how well it performs."
   ]
  },
  {
   "cell_type": "code",
   "execution_count": 28,
   "id": "82dc48a6",
   "metadata": {},
   "outputs": [],
   "source": [
    "from sklearn.linear_model import LogisticRegressionCV\n",
    "from sklearn.preprocessing import OneHotEncoder, StandardScaler\n",
    "from sklearn.compose import ColumnTransformer\n",
    "from sklearn.model_selection import train_test_split\n",
    "from sklearn.pipeline import Pipeline"
   ]
  },
  {
   "cell_type": "code",
   "execution_count": 29,
   "id": "67ebb06f",
   "metadata": {},
   "outputs": [],
   "source": [
    "X_train, X_test, y_train, y_test = train_test_split(X, y, test_size = 0.2, random_state = 42)"
   ]
  },
  {
   "cell_type": "code",
   "execution_count": 30,
   "id": "bca6f35b",
   "metadata": {},
   "outputs": [],
   "source": [
    "column_selector = ColumnTransformer([\n",
    "    (\"categorical\", OneHotEncoder(), categorical_features),\n",
    "    (\"numerical\", \"passthrough\", numerical_features)\n",
    "])"
   ]
  },
  {
   "cell_type": "code",
   "execution_count": 31,
   "id": "1990ec36",
   "metadata": {},
   "outputs": [],
   "source": [
    "pipe_lr = Pipeline([\n",
    "    (\"selector\", column_selector),\n",
    "    (\"scaler\", StandardScaler(with_mean = False)),\n",
    "    (\"classifier\", LogisticRegressionCV(n_jobs = -4, random_state = 42))\n",
    "])"
   ]
  },
  {
   "cell_type": "code",
   "execution_count": 32,
   "id": "4a21e9b9",
   "metadata": {},
   "outputs": [],
   "source": [
    "lr_model = pipe_lr.fit(X_train, y_train)"
   ]
  },
  {
   "cell_type": "markdown",
   "id": "e1452a4b",
   "metadata": {},
   "source": [
    "##### Metrics"
   ]
  },
  {
   "cell_type": "code",
   "execution_count": 33,
   "id": "8bd0500f",
   "metadata": {},
   "outputs": [
    {
     "name": "stdout",
     "output_type": "stream",
     "text": [
      "f1-micro score:  0.664\n"
     ]
    },
    {
     "data": {
      "image/png": "[encoded data removed]",
      "text/plain": [
       "<Figure size 432x288 with 1 Axes>"
      ]
     },
     "metadata": {
      "needs_background": "light"
     },
     "output_type": "display_data"
    }
   ],
   "source": [
    "metric(lr_model, X_train, y_train)"
   ]
  },
  {
   "cell_type": "markdown",
   "id": "e084ac5f",
   "metadata": {},
   "source": [
    "Our initial model seems to have performed pretty well comparing to the naive model. Let's see how well it generalizes the test features."
   ]
  },
  {
   "cell_type": "code",
   "execution_count": 34,
   "id": "9cc415ee",
   "metadata": {},
   "outputs": [
    {
     "name": "stdout",
     "output_type": "stream",
     "text": [
      "f1-micro score:  0.6633\n"
     ]
    },
    {
     "data": {
      "image/png": "[encoded data removed]",
      "text/plain": [
       "<Figure size 432x288 with 1 Axes>"
      ]
     },
     "metadata": {
      "needs_background": "light"
     },
     "output_type": "display_data"
    }
   ],
   "source": [
    "metric(lr_model, X_test, y_test)"
   ]
  },
  {
   "cell_type": "markdown",
   "id": "e96aa841",
   "metadata": {},
   "source": [
    "The model is definitely not overfitting. The train and test scores are almost the same.\n",
    "\n",
    "Now, let's try grouping by the geo_level_1_id and train a seperate model for each level_1_id and see if it improves the performance.\n",
    "\n",
    "We will define a custom classifier to do this classification."
   ]
  },
  {
   "cell_type": "code",
   "execution_count": 35,
   "id": "18630d98",
   "metadata": {},
   "outputs": [],
   "source": [
    "class GroupByEstimator(BaseEstimator, ClassifierMixin):\n",
    "    def __init__(self, model_base, group):\n",
    "        self.model_base = model_base\n",
    "        self.group = group\n",
    "        \n",
    "    def fit(self, X, y):\n",
    "        self.models_ = {}\n",
    "        \n",
    "        for field, df in X.groupby(self.group):\n",
    "            self.models_[field] = clone(self.model_base).fit(df, y.loc[df.index])\n",
    "     \n",
    "        return self\n",
    "    \n",
    "    def predict(self, X):\n",
    "        y_pred = pd.Series(0, index = X.index)\n",
    "        \n",
    "        for field, df in X.groupby(self.group):\n",
    "            y_pred.loc[df.index] = self.models_[field].predict(df)\n",
    "            \n",
    "        return y_pred"
   ]
  },
  {
   "cell_type": "code",
   "execution_count": 36,
   "id": "97446c54",
   "metadata": {},
   "outputs": [],
   "source": [
    "categorical_features_groupby_geo1 = categorical_features[1:]"
   ]
  },
  {
   "cell_type": "code",
   "execution_count": 37,
   "id": "af05ce16",
   "metadata": {},
   "outputs": [],
   "source": [
    "column_selector_groupby_lr = ColumnTransformer([\n",
    "    (\"categorical\", OneHotEncoder(handle_unknown = \"ignore\"), categorical_features_groupby_geo1),\n",
    "    (\"numerical\", \"passthrough\", numerical_features)\n",
    "])"
   ]
  },
  {
   "cell_type": "code",
   "execution_count": 38,
   "id": "b39fe748",
   "metadata": {},
   "outputs": [],
   "source": [
    "pipe_groupby_lr = Pipeline([\n",
    "    (\"selector\", column_selector_groupby_lr),\n",
    "    (\"scaler\", StandardScaler(with_mean = False)),\n",
    "    (\"classifier\", LogisticRegressionCV(n_jobs = -4, random_state = 42, max_iter=5000))\n",
    "])"
   ]
  },
  {
   "cell_type": "code",
   "execution_count": 39,
   "id": "6b4feea5",
   "metadata": {},
   "outputs": [],
   "source": [
    "group_by_model_lr = GroupByEstimator(pipe_groupby_lr, \"geo_level_1_id\").fit(X_train, y_train)"
   ]
  },
  {
   "cell_type": "code",
   "execution_count": 40,
   "id": "4475f936",
   "metadata": {},
   "outputs": [
    {
     "name": "stdout",
     "output_type": "stream",
     "text": [
      "f1-micro score:  0.6739\n"
     ]
    },
    {
     "data": {
      "image/png": "[encoded data removed]",
      "text/plain": [
       "<Figure size 432x288 with 1 Axes>"
      ]
     },
     "metadata": {
      "needs_background": "light"
     },
     "output_type": "display_data"
    }
   ],
   "source": [
    "metric(group_by_model_lr, X_train, y_train)"
   ]
  },
  {
   "cell_type": "code",
   "execution_count": 41,
   "id": "62c541e6",
   "metadata": {},
   "outputs": [
    {
     "name": "stdout",
     "output_type": "stream",
     "text": [
      "f1-micro score:  0.6702\n"
     ]
    },
    {
     "data": {
      "image/png": "[encoded data removed]",
      "text/plain": [
       "<Figure size 432x288 with 1 Axes>"
      ]
     },
     "metadata": {
      "needs_background": "light"
     },
     "output_type": "display_data"
    }
   ],
   "source": [
    "metric(group_by_model_lr, X_test, y_test)"
   ]
  },
  {
   "cell_type": "markdown",
   "id": "37263250",
   "metadata": {},
   "source": [
    "About one percent increase in the score when we use the groupby approach.\n",
    "\n",
    "Let's train seperate models based upon the land surface condition and see how well it performs."
   ]
  },
  {
   "cell_type": "code",
   "execution_count": 42,
   "id": "131ef8bf",
   "metadata": {},
   "outputs": [
    {
     "data": {
      "text/plain": [
       "array(['geo_level_1_id', 'plan_configuration',\n",
       "       'has_superstructure_adobe_mud',\n",
       "       'has_superstructure_mud_mortar_stone',\n",
       "       'has_superstructure_stone_flag',\n",
       "       'has_superstructure_cement_mortar_stone',\n",
       "       'has_superstructure_mud_mortar_brick',\n",
       "       'has_superstructure_cement_mortar_brick',\n",
       "       'has_superstructure_timber', 'has_superstructure_bamboo',\n",
       "       'has_superstructure_rc_non_engineered',\n",
       "       'has_superstructure_rc_engineered', 'has_secondary_use'],\n",
       "      dtype='<U38')"
      ]
     },
     "execution_count": 42,
     "metadata": {},
     "output_type": "execute_result"
    }
   ],
   "source": [
    "categorical_features_groupby_surf = np.delete(categorical_features, 1)\n",
    "categorical_features_groupby_surf"
   ]
  },
  {
   "cell_type": "code",
   "execution_count": 43,
   "id": "b355b740",
   "metadata": {},
   "outputs": [],
   "source": [
    "column_selector_groupby_surf_lr = ColumnTransformer([\n",
    "    (\"categorical\", OneHotEncoder(handle_unknown = \"ignore\"), categorical_features_groupby_surf),\n",
    "    (\"numerical\", \"passthrough\", numerical_features)\n",
    "])"
   ]
  },
  {
   "cell_type": "code",
   "execution_count": 44,
   "id": "5c169dc2",
   "metadata": {},
   "outputs": [],
   "source": [
    "pipe_groupby_surf_lr = Pipeline([\n",
    "    (\"selector\", column_selector_groupby_surf_lr),\n",
    "    (\"scaler\", StandardScaler(with_mean = False)),\n",
    "    (\"classifier\", LogisticRegressionCV(n_jobs = -4, random_state = 42, max_iter=5000))\n",
    "])"
   ]
  },
  {
   "cell_type": "code",
   "execution_count": 45,
   "id": "174e6910",
   "metadata": {},
   "outputs": [],
   "source": [
    "group_by_model_surf_lr = GroupByEstimator(pipe_groupby_surf_lr, \"land_surface_condition\").fit(X_train, y_train)"
   ]
  },
  {
   "cell_type": "code",
   "execution_count": 46,
   "id": "f2319585",
   "metadata": {},
   "outputs": [
    {
     "name": "stdout",
     "output_type": "stream",
     "text": [
      "f1-micro score:  0.6656\n"
     ]
    },
    {
     "data": {
      "image/png": "[encoded data removed]",
      "text/plain": [
       "<Figure size 432x288 with 1 Axes>"
      ]
     },
     "metadata": {
      "needs_background": "light"
     },
     "output_type": "display_data"
    }
   ],
   "source": [
    "metric(group_by_model_surf_lr, X_train, y_train)"
   ]
  },
  {
   "cell_type": "code",
   "execution_count": 47,
   "id": "64b523b7",
   "metadata": {},
   "outputs": [
    {
     "name": "stdout",
     "output_type": "stream",
     "text": [
      "f1-micro score:  0.6636\n"
     ]
    },
    {
     "data": {
      "image/png": "[encoded data removed]",
      "text/plain": [
       "<Figure size 432x288 with 1 Axes>"
      ]
     },
     "metadata": {
      "needs_background": "light"
     },
     "output_type": "display_data"
    }
   ],
   "source": [
    "metric(group_by_model_surf_lr, X_test, y_test)"
   ]
  },
  {
   "cell_type": "markdown",
   "id": "6f6cdc99",
   "metadata": {},
   "source": [
    "The model is not performing better. Let's move to more complicated models.\n",
    "\n",
    "###  Random Forest Classifier"
   ]
  },
  {
   "cell_type": "code",
   "execution_count": 48,
   "id": "6f19e976",
   "metadata": {},
   "outputs": [],
   "source": [
    "from sklearn.ensemble import RandomForestClassifier\n",
    "from sklearn.model_selection import GridSearchCV, RandomizedSearchCV"
   ]
  },
  {
   "cell_type": "markdown",
   "id": "489b5d62",
   "metadata": {},
   "source": [
    "We'll use all the features provided in the dataset and do a k-fold search to find the optimal features to be used. Let's also do a k-fold search for the maximum depth."
   ]
  },
  {
   "cell_type": "code",
   "execution_count": 49,
   "id": "b3ba1e8b",
   "metadata": {},
   "outputs": [],
   "source": [
    "param_grid = {\"max_depth\" : np.arange(6, 21, 2), \"max_features\" : np.arange(20, 40, 3)}\n",
    "\n",
    "grid_search_rf = RandomizedSearchCV(RandomForestClassifier(random_state = 42, n_estimators = 50), param_grid, cv = 5, n_jobs = -4, scoring = \"r2\", n_iter = 30)"
   ]
  },
  {
   "cell_type": "code",
   "execution_count": 50,
   "id": "b5a3ec5f",
   "metadata": {},
   "outputs": [],
   "source": [
    "column_selector_rf = ColumnTransformer([\n",
    "    (\"categorical\", OneHotEncoder(handle_unknown = \"ignore\"), categorical_columns[:-1]),\n",
    "    (\"numerical\", \"passthrough\", numerical_columns)\n",
    "])"
   ]
  },
  {
   "cell_type": "code",
   "execution_count": 51,
   "id": "2b1493c5",
   "metadata": {},
   "outputs": [],
   "source": [
    "pipe_rf = Pipeline([\n",
    "    (\"selector\", column_selector_rf),\n",
    "    (\"scaler\", StandardScaler(with_mean = False)),\n",
    "    (\"classifier\", grid_search_rf)\n",
    "])"
   ]
  },
  {
   "cell_type": "code",
   "execution_count": 52,
   "id": "1dd2836f",
   "metadata": {},
   "outputs": [],
   "source": [
    "model_rf = pipe_rf.fit(X_train, y_train)"
   ]
  },
  {
   "cell_type": "code",
   "execution_count": 53,
   "id": "adaa6e35",
   "metadata": {},
   "outputs": [
    {
     "data": {
      "text/plain": [
       "{'max_features': 38, 'max_depth': 20}"
      ]
     },
     "execution_count": 53,
     "metadata": {},
     "output_type": "execute_result"
    }
   ],
   "source": [
    "model_rf[-1].best_params_"
   ]
  },
  {
   "cell_type": "code",
   "execution_count": 54,
   "id": "69215f1d",
   "metadata": {},
   "outputs": [
    {
     "name": "stdout",
     "output_type": "stream",
     "text": [
      "f1-micro score:  0.8641\n"
     ]
    },
    {
     "data": {
      "image/png": "[encoded data removed]",
      "text/plain": [
       "<Figure size 432x288 with 1 Axes>"
      ]
     },
     "metadata": {
      "needs_background": "light"
     },
     "output_type": "display_data"
    }
   ],
   "source": [
    "metric(model_rf, X_train, y_train)"
   ]
  },
  {
   "cell_type": "code",
   "execution_count": 55,
   "id": "cca1caa0",
   "metadata": {},
   "outputs": [
    {
     "name": "stdout",
     "output_type": "stream",
     "text": [
      "f1-micro score:  0.7251\n"
     ]
    },
    {
     "data": {
      "image/png": "[encoded data removed]",
      "text/plain": [
       "<Figure size 432x288 with 1 Axes>"
      ]
     },
     "metadata": {
      "needs_background": "light"
     },
     "output_type": "display_data"
    }
   ],
   "source": [
    "metric(model_rf, X_test, y_test)"
   ]
  },
  {
   "cell_type": "markdown",
   "id": "fa2ea79c",
   "metadata": {},
   "source": [
    "The initial RF model cannot generalize the results. However, \n",
    "\n",
    "* The train score is 85%\n",
    "* The test score of 72.17% is still the best of all the models till now.\n",
    "* The model performance can definitely be improved to reduce the variance."
   ]
  },
  {
   "cell_type": "markdown",
   "id": "16b22fad",
   "metadata": {},
   "source": [
    "#### Save the trained model with pickle"
   ]
  },
  {
   "cell_type": "code",
   "execution_count": 56,
   "id": "91706f34",
   "metadata": {},
   "outputs": [],
   "source": [
    "import pickle\n",
    "\n",
    "pickle.dump(model_rf, open(\"randomforestmodel.mod\", \"wb\"))"
   ]
  },
  {
   "cell_type": "markdown",
   "id": "b8a9db9b",
   "metadata": {},
   "source": [
    "#### Submission\n",
    "Let's do a submission and see how well the model performs on the submission dataset."
   ]
  },
  {
   "cell_type": "code",
   "execution_count": 57,
   "id": "db8b90c3",
   "metadata": {},
   "outputs": [],
   "source": [
    "submission_format = pd.read_csv(\"submission_format.csv\")"
   ]
  },
  {
   "cell_type": "code",
   "execution_count": 58,
   "id": "394cd1b2",
   "metadata": {},
   "outputs": [],
   "source": [
    "X_test_competition = pd.read_csv(\"test_values.csv\")"
   ]
  },
  {
   "cell_type": "code",
   "execution_count": 59,
   "id": "bf833b24",
   "metadata": {},
   "outputs": [],
   "source": [
    "submission_format[\"damage_grade\"] = model_rf.predict(X_test_competition)"
   ]
  },
  {
   "cell_type": "code",
   "execution_count": 60,
   "id": "f2eba4b6",
   "metadata": {},
   "outputs": [],
   "source": [
    "submission_format.to_csv(\"y_test_random_forest.csv\", index = False)"
   ]
  },
  {
   "cell_type": "markdown",
   "id": "4fdb725d",
   "metadata": {},
   "source": [
    "### Submission score"
   ]
  },
  {
   "attachments": {
    "drivendata%20rank.PNG": {
     "image/png": "[encoded data removed]"
    }
   },
   "cell_type": "markdown",
   "id": "c051ba7b",
   "metadata": {},
   "source": [
    "![drivendata%20rank.PNG](attachment:drivendata%20rank.PNG)"
   ]
  },
  {
   "cell_type": "code",
   "execution_count": null,
   "id": "1d90bbc3",
   "metadata": {},
   "outputs": [],
   "source": []
  }
 ],
 "metadata": {
  "kernelspec": {
   "display_name": "Python 3 (ipykernel)",
   "language": "python",
   "name": "python3"
  },
  "language_info": {
   "codemirror_mode": {
    "name": "ipython",
    "version": 3
   },
   "file_extension": ".py",
   "mimetype": "text/x-python",
   "name": "python",
   "nbconvert_exporter": "python",
   "pygments_lexer": "ipython3",
   "version": "3.9.7"
  }
 },
 "nbformat": 4,
 "nbformat_minor": 5
}
